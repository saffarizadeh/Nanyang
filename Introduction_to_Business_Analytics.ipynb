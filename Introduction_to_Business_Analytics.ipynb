{
  "nbformat": 4,
  "nbformat_minor": 0,
  "metadata": {
    "colab": {
      "name": "Introduction to Business Analytics",
      "provenance": [],
      "include_colab_link": true
    },
    "kernelspec": {
      "name": "python3",
      "display_name": "Python 3"
    }
  },
  "cells": [
    {
      "cell_type": "markdown",
      "metadata": {
        "id": "view-in-github",
        "colab_type": "text"
      },
      "source": [
        "<a href=\"https://colab.research.google.com/github/saffarizadeh/Nanyang/blob/master/Introduction_to_Business_Analytics.ipynb\" target=\"_parent\"><img src=\"https://colab.research.google.com/assets/colab-badge.svg\" alt=\"Open In Colab\"/></a>"
      ]
    },
    {
      "cell_type": "markdown",
      "metadata": {
        "id": "LdfDSMOQ8iM5",
        "colab_type": "text"
      },
      "source": [
        "# Nanyang Technological University\n",
        "\n",
        "#Nanyang Business School\n",
        "\n",
        "\n",
        "---\n",
        "\n",
        "\n",
        "# Introduction to Business Analytics\n",
        "\n"
      ]
    },
    {
      "cell_type": "markdown",
      "metadata": {
        "id": "2RlBq5QkbNf6",
        "colab_type": "text"
      },
      "source": [
        "## Unsupervised Machine Learning (Clustering)"
      ]
    },
    {
      "cell_type": "markdown",
      "metadata": {
        "id": "1KSb0NrEd8cn",
        "colab_type": "text"
      },
      "source": [
        "First we need to import the needed libraries."
      ]
    },
    {
      "cell_type": "code",
      "metadata": {
        "id": "upz2vMgnbf7S",
        "colab_type": "code",
        "colab": {}
      },
      "source": [
        "import scipy.cluster.hierarchy as shc\n",
        "import matplotlib.pyplot as plt  \n",
        "import pandas as pd  \n",
        "import numpy as np\n",
        "from sklearn.cluster import AgglomerativeClustering"
      ],
      "execution_count": 0,
      "outputs": []
    },
    {
      "cell_type": "markdown",
      "metadata": {
        "id": "81PJKRFmeD99",
        "colab_type": "text"
      },
      "source": [
        "Next, we import a customer dataset."
      ]
    },
    {
      "cell_type": "code",
      "metadata": {
        "id": "5a03-8y9E9J6",
        "colab_type": "code",
        "colab": {}
      },
      "source": [
        "customer_data = pd.read_csv('https://stackabuse.s3.amazonaws.com/files/hierarchical-clustering-with-python-and-scikit-learn-shopping-data.csv')\n",
        "customer_data = customer_data.iloc[:, 3:5]\n",
        "customer_data.head()"
      ],
      "execution_count": 0,
      "outputs": []
    },
    {
      "cell_type": "markdown",
      "metadata": {
        "id": "IKdRlGk0IqMZ",
        "colab_type": "text"
      },
      "source": [
        "Let's plot the data."
      ]
    },
    {
      "cell_type": "code",
      "metadata": {
        "id": "YTjBodbFIiq2",
        "colab_type": "code",
        "colab": {}
      },
      "source": [
        "plt.scatter(customer_data.values[:,0], customer_data.values[:,1])\n",
        "plt.xlabel(\"Annual Income\")\n",
        "plt.ylabel(\"Spending Score\")"
      ],
      "execution_count": 0,
      "outputs": []
    },
    {
      "cell_type": "markdown",
      "metadata": {
        "id": "HAyKee7FeQQE",
        "colab_type": "text"
      },
      "source": [
        "Now we can use an unsupervised machine learning method to cluster our customers into different groups.\n",
        "\n",
        "Here we use hiearchical clustering."
      ]
    },
    {
      "cell_type": "code",
      "metadata": {
        "id": "DDhF9RrZbi7e",
        "colab_type": "code",
        "colab": {}
      },
      "source": [
        "cluster = AgglomerativeClustering(n_clusters=5, affinity='euclidean', linkage='ward')  \n",
        "cluster.fit_predict(customer_data.values)\n",
        "plt.figure(figsize=(10, 7))  \n",
        "plt.scatter(customer_data.values[:,0], customer_data.values[:,1], c=cluster.labels_, cmap='rainbow')\n",
        "plt.xlabel(\"Annual Income\")\n",
        "plt.ylabel(\"Spending Score\")"
      ],
      "execution_count": 0,
      "outputs": []
    },
    {
      "cell_type": "markdown",
      "metadata": {
        "id": "z7QKn2-SbC39",
        "colab_type": "text"
      },
      "source": [
        "## Supervised Machine Learning (Classification)"
      ]
    },
    {
      "cell_type": "markdown",
      "metadata": {
        "id": "_XflHTGuVTQ3",
        "colab_type": "text"
      },
      "source": [
        "First we need to import the needed libraries."
      ]
    },
    {
      "cell_type": "code",
      "metadata": {
        "id": "gUhMD9H6-hyn",
        "colab_type": "code",
        "colab": {}
      },
      "source": [
        "%matplotlib inline\n",
        "import numpy as np\n",
        "import pandas as pd\n",
        "from sklearn import datasets\n",
        "from sklearn import svm\n",
        "import matplotlib.pyplot as plt\n",
        "from sklearn.metrics import accuracy_score\n",
        "from sklearn.model_selection import train_test_split"
      ],
      "execution_count": 0,
      "outputs": []
    },
    {
      "cell_type": "markdown",
      "metadata": {
        "id": "VdlC7Ag8WEgk",
        "colab_type": "text"
      },
      "source": [
        "Then we can load the Boston house prices dataset."
      ]
    },
    {
      "cell_type": "code",
      "metadata": {
        "id": "toAgZwV1-zH8",
        "colab_type": "code",
        "colab": {}
      },
      "source": [
        "# Boston house prices dataset\n",
        "boston = datasets.load_boston()\n",
        "df = pd.DataFrame(boston.data, columns=boston.feature_names)\n",
        "df['price'] = 1*(boston.target > np.mean(boston.target))\n",
        "X = df[['RM', 'LSTAT']]\n",
        "y = df['price']"
      ],
      "execution_count": 0,
      "outputs": []
    },
    {
      "cell_type": "markdown",
      "metadata": {
        "id": "JmP3NFNRApkf",
        "colab_type": "text"
      },
      "source": [
        "For this exercise we will only use RM, LSTAT, and price.\n",
        "* RM: average number of rooms per dwelling\n",
        "* LSTAT: percentage of lower status (class) of the population\n",
        "* price: whether the price of this unit is more than average or not."
      ]
    },
    {
      "cell_type": "code",
      "metadata": {
        "id": "RQDcfOlIJMNi",
        "colab_type": "code",
        "colab": {}
      },
      "source": [
        "X.head()"
      ],
      "execution_count": 0,
      "outputs": []
    },
    {
      "cell_type": "code",
      "metadata": {
        "id": "i-PguNnz_-28",
        "colab_type": "code",
        "colab": {}
      },
      "source": [
        "y.head()"
      ],
      "execution_count": 0,
      "outputs": []
    },
    {
      "cell_type": "markdown",
      "metadata": {
        "id": "eCL_Es-3Bpjs",
        "colab_type": "text"
      },
      "source": [
        "### SVM Classification"
      ]
    },
    {
      "cell_type": "markdown",
      "metadata": {
        "id": "LoUXiVD6TDzd",
        "colab_type": "text"
      },
      "source": [
        "Let's divide our data into a training set and a test set.\n",
        "\n",
        "We will use 80% of the data to train the model and keep the remaining 20% to test the model."
      ]
    },
    {
      "cell_type": "code",
      "metadata": {
        "id": "jzUGzLpSCqUP",
        "colab_type": "code",
        "colab": {}
      },
      "source": [
        "X_train, X_test, y_train, y_test = train_test_split(X, y, test_size=0.2, random_state=10)"
      ],
      "execution_count": 0,
      "outputs": []
    },
    {
      "cell_type": "markdown",
      "metadata": {
        "id": "uX45jskCTMiK",
        "colab_type": "text"
      },
      "source": [
        "Now we can train our model.\n",
        "\n",
        "As you can see we only need two lines of code to train the model!"
      ]
    },
    {
      "cell_type": "code",
      "metadata": {
        "id": "arBVA5O9EGfT",
        "colab_type": "code",
        "colab": {}
      },
      "source": [
        "clf = svm.SVC(kernel='linear')\n",
        "clf.fit(X_train, y_train)"
      ],
      "execution_count": 0,
      "outputs": []
    },
    {
      "cell_type": "markdown",
      "metadata": {
        "id": "opESIftWTgSJ",
        "colab_type": "text"
      },
      "source": [
        "We can easily calculate the accuracy of the model, using the test dataset."
      ]
    },
    {
      "cell_type": "code",
      "metadata": {
        "id": "wT7bm1ICEIfS",
        "colab_type": "code",
        "colab": {}
      },
      "source": [
        "accuracy_score(y_test, clf.predict(X_test))"
      ],
      "execution_count": 0,
      "outputs": []
    },
    {
      "cell_type": "markdown",
      "metadata": {
        "id": "_gcMfigrRSlH",
        "colab_type": "text"
      },
      "source": [
        "### Plotting the Results"
      ]
    },
    {
      "cell_type": "code",
      "metadata": {
        "id": "6DTNRm3ZEVb6",
        "colab_type": "code",
        "colab": {}
      },
      "source": [
        "x_min = X.iloc[:, 0].min()\n",
        "x_max = X.iloc[:, 0].max()\n",
        "y_min = X.iloc[:, 1].min()\n",
        "y_max = X.iloc[:, 1].max()\n",
        "XX, YY = np.mgrid[x_min:x_max:200j, y_min:y_max:200j]\n",
        "Z = clf.decision_function(np.c_[XX.ravel(), YY.ravel()])\n",
        "Z = Z.reshape(XX.shape)\n",
        "plt.figure(figsize=(15, 10))\n",
        "plt.clf()\n",
        "# Plot all data (train + test)\n",
        "plt.scatter(X.iloc[:, 0], X.iloc[:, 1], c=y, zorder=10, edgecolor='k', s=20, cmap=plt.cm.Paired)\n",
        "# Circle out the test data\n",
        "plt.scatter(X_test.iloc[:, 0], X_test.iloc[:, 1], zorder=10, edgecolor='g', s=50, facecolors='none')\n",
        "plt.axis('tight')\n",
        "# Plot class regions\n",
        "plt.pcolormesh(XX, YY, Z > 0, cmap=plt.cm.Paired)\n",
        "# Plot boundry margins\n",
        "plt.contour(XX, YY, Z, colors=['k', 'k', 'k'], linestyles=['--', '-', '--'], levels=[-.5, 0, .5])\n",
        "plt.xlabel(\"RM (average number of rooms per dwelling)\")\n",
        "plt.ylabel(\"LSTAT (percentage of lower status (class) of the population)\")\n",
        "plt.show()"
      ],
      "execution_count": 0,
      "outputs": []
    },
    {
      "cell_type": "code",
      "metadata": {
        "id": "nGVoTSGFHnvD",
        "colab_type": "code",
        "colab": {}
      },
      "source": [
        ""
      ],
      "execution_count": 0,
      "outputs": []
    }
  ]
}